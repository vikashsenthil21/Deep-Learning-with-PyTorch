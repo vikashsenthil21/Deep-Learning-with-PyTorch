{
  "cells": [
    {
      "cell_type": "markdown",
      "metadata": {
        "collapsed": true,
        "jupyter": {
          "outputs_hidden": true
        },
        "id": "uzB0OyukIGM3"
      },
      "source": [
        "# PyTorch Basics Exercises\n",
        "For these exercises we'll create a tensor and perform several operations on it.\n",
        "\n",
        "<div class=\"alert alert-danger\" style=\"margin: 10px\"><strong>IMPORTANT NOTE!</strong> Make sure you don't run the cells directly above the example output shown, <br>otherwise you will end up writing over the example output!</div>"
      ]
    },
    {
      "cell_type": "markdown",
      "metadata": {
        "id": "oEbkq10RIGM5"
      },
      "source": [
        "### 1. Perform standard imports\n",
        "\n",
        "> Add blockquote\\\n",
        "\n",
        "\n",
        "Import torch and NumPy"
      ]
    },
    {
      "cell_type": "code",
      "execution_count": null,
      "metadata": {
        "id": "kmBJ71tGIGM5"
      },
      "outputs": [],
      "source": [
        "# CODE HERE\n",
        "import torch\n",
        "import numpy as np"
      ]
    },
    {
      "cell_type": "markdown",
      "metadata": {
        "id": "ZEccuNljIGM6"
      },
      "source": [
        "\\### 2. Set the random seed for NumPy and PyTorch both to \"42\"\n",
        "This allows us to share the same \"random\" results."
      ]
    },
    {
      "cell_type": "code",
      "execution_count": null,
      "metadata": {
        "colab": {
          "base_uri": "https://localhost:8080/"
        },
        "id": "9cblO39nIGM7",
        "outputId": "9c27a862-658f-49d0-8811-5d8d2860118d"
      },
      "outputs": [
        {
          "output_type": "execute_result",
          "data": {
            "text/plain": [
              "<torch._C.Generator at 0x7900407c15d0>"
            ]
          },
          "metadata": {},
          "execution_count": 28
        }
      ],
      "source": [
        "np.random.seed(42)\n",
        "torch.manual_seed(42)"
      ]
    },
    {
      "cell_type": "markdown",
      "metadata": {
        "id": "mlpkB-zyIGM7"
      },
      "source": [
        "[link text](https://)### 3. Create a NumPy array called \"arr\" that contains 6 random integers between 0 (inclusive) and 5 (exclusive)"
      ]
    },
    {
      "cell_type": "code",
      "execution_count": null,
      "metadata": {
        "colab": {
          "base_uri": "https://localhost:8080/"
        },
        "id": "OXgd6oXyIGM7",
        "outputId": "b79129da-2b54-43f0-8db2-b009258e42e8"
      },
      "outputs": [
        {
          "output_type": "stream",
          "name": "stdout",
          "text": [
            "[3 4 2 4 4 1]\n"
          ]
        }
      ],
      "source": [
        "arr = np.random.randint(0,5,6)\n",
        "print(arr)"
      ]
    },
    {
      "cell_type": "code",
      "execution_count": null,
      "metadata": {
        "id": "9dKXev8CIGM8",
        "outputId": "b5be1e05-d3b1-46c9-ea3e-a69cd0c2f185"
      },
      "outputs": [
        {
          "name": "stdout",
          "output_type": "stream",
          "text": [
            "[3 4 2 4 4 1]\n"
          ]
        }
      ],
      "source": [
        "# DON'T WRITE HERE"
      ]
    },
    {
      "cell_type": "markdown",
      "metadata": {
        "id": "8onV0u9gIGM9"
      },
      "source": [
        "### 4. Create a tensor \"x\" from the array above"
      ]
    },
    {
      "cell_type": "code",
      "execution_count": null,
      "metadata": {
        "colab": {
          "base_uri": "https://localhost:8080/"
        },
        "id": "aqK0gS1pIGM-",
        "outputId": "4bf2220a-5545-47cf-a297-7b927ac49bf4"
      },
      "outputs": [
        {
          "output_type": "stream",
          "name": "stdout",
          "text": [
            "tensor([3, 4, 2, 4, 4, 1]) <class 'torch.Tensor'>\n"
          ]
        }
      ],
      "source": [
        "x=torch.tensor(arr)\n",
        "print(x,type(x))"
      ]
    },
    {
      "cell_type": "code",
      "execution_count": null,
      "metadata": {
        "id": "sSAiXyzHIGM-",
        "outputId": "bd4a4b7c-3c65-4d58-e1e3-f1612c8a5c36"
      },
      "outputs": [
        {
          "name": "stdout",
          "output_type": "stream",
          "text": [
            "tensor([3, 4, 2, 4, 4, 1], dtype=torch.int32)\n"
          ]
        }
      ],
      "source": [
        "# DON'T WRITE HERE"
      ]
    },
    {
      "cell_type": "markdown",
      "metadata": {
        "id": "KOgZF94NIGM-"
      },
      "source": [
        "### 5. Change the dtype of x from 'int32' to 'int64'\n",
        "Note: 'int64' is also called 'LongTensor'"
      ]
    },
    {
      "cell_type": "code",
      "execution_count": null,
      "metadata": {
        "colab": {
          "base_uri": "https://localhost:8080/"
        },
        "id": "ce4Y2uv7IGM_",
        "outputId": "f6cb9a13-3e0e-4bd1-804c-6f671b02f3e7"
      },
      "outputs": [
        {
          "output_type": "stream",
          "name": "stdout",
          "text": [
            "tensor([3, 4, 2, 4, 4, 1]) <class 'torch.Tensor'>\n"
          ]
        }
      ],
      "source": [
        "print(x,type(x))"
      ]
    },
    {
      "cell_type": "code",
      "execution_count": null,
      "metadata": {
        "id": "Ixh1dGKQIGM_",
        "outputId": "671c4b2e-28c8-4b8d-f850-4356c5a91d1c"
      },
      "outputs": [
        {
          "name": "stdout",
          "output_type": "stream",
          "text": [
            "torch.LongTensor\n"
          ]
        }
      ],
      "source": [
        "# DON'T WRITE HERE"
      ]
    },
    {
      "cell_type": "markdown",
      "metadata": {
        "id": "LDSOozX2IGM_"
      },
      "source": [
        "### 6. Reshape x into a 3x2 tensor\n",
        "There are several ways to do this."
      ]
    },
    {
      "cell_type": "code",
      "execution_count": null,
      "metadata": {
        "colab": {
          "base_uri": "https://localhost:8080/"
        },
        "id": "tBRHVcKwIGM_",
        "outputId": "613265d9-3b6a-4b4d-a897-9255f7192efe"
      },
      "outputs": [
        {
          "output_type": "stream",
          "name": "stdout",
          "text": [
            "tensor([[3, 4],\n",
            "        [2, 4],\n",
            "        [4, 1]])\n"
          ]
        }
      ],
      "source": [
        "# CODE HERE\n",
        "x=np.reshape(x,(3,2))\n",
        "print(x)"
      ]
    },
    {
      "cell_type": "code",
      "execution_count": null,
      "metadata": {
        "id": "NU5-9W7mIGM_",
        "outputId": "8e171950-532e-411c-8343-70d0c9d39a6d"
      },
      "outputs": [
        {
          "name": "stdout",
          "output_type": "stream",
          "text": [
            "tensor([[3, 4],\n",
            "        [2, 4],\n",
            "        [4, 1]])\n"
          ]
        }
      ],
      "source": [
        "# DON'T WRITE HERE"
      ]
    },
    {
      "cell_type": "markdown",
      "metadata": {
        "id": "kJoXIOmbIGM_"
      },
      "source": [
        "### 7. Return the right-hand column of tensor x"
      ]
    },
    {
      "cell_type": "code",
      "execution_count": null,
      "metadata": {
        "colab": {
          "base_uri": "https://localhost:8080/"
        },
        "id": "CK4vXLbiIGNA",
        "outputId": "f42752bd-d471-4702-8879-b6121a48534b"
      },
      "outputs": [
        {
          "output_type": "stream",
          "name": "stdout",
          "text": [
            "tensor([[4],\n",
            "        [4],\n",
            "        [1]])\n"
          ]
        }
      ],
      "source": [
        "# CODE HERE\n",
        "right=print(x[:,1:])"
      ]
    },
    {
      "cell_type": "code",
      "execution_count": null,
      "metadata": {
        "id": "fcMZ1CVCIGNA",
        "outputId": "0b4d44b0-d373-4da8-be1c-f4ef2e5fd38a"
      },
      "outputs": [
        {
          "name": "stdout",
          "output_type": "stream",
          "text": [
            "tensor([[4],\n",
            "        [4],\n",
            "        [1]])\n"
          ]
        }
      ],
      "source": [
        "# DON'T WRITE HERE"
      ]
    },
    {
      "cell_type": "markdown",
      "metadata": {
        "id": "OiR1o0tyIGNA"
      },
      "source": [
        "### 8. Without changing x, return a tensor of square values of x\n",
        "There are several ways to do this."
      ]
    },
    {
      "cell_type": "code",
      "execution_count": null,
      "metadata": {
        "colab": {
          "base_uri": "https://localhost:8080/"
        },
        "id": "m2uEHi_XIGNA",
        "outputId": "d6ce7d62-c7af-4fd4-b049-2829bfb7ee3e"
      },
      "outputs": [
        {
          "output_type": "execute_result",
          "data": {
            "text/plain": [
              "tensor([[ 9, 16],\n",
              "        [ 4, 16],\n",
              "        [16,  1]])"
            ]
          },
          "metadata": {},
          "execution_count": 34
        }
      ],
      "source": [
        "# CODE HERE\n",
        "np.reshape(x**2,(3,2))"
      ]
    },
    {
      "cell_type": "code",
      "execution_count": null,
      "metadata": {
        "id": "94ByReVEIGNA",
        "outputId": "fc55de78-e553-4c34-e80a-d6110d6fc4a5"
      },
      "outputs": [
        {
          "name": "stdout",
          "output_type": "stream",
          "text": [
            "tensor([[ 9, 16],\n",
            "        [ 4, 16],\n",
            "        [16,  1]])\n"
          ]
        }
      ],
      "source": [
        "# DON'T WRITE HERE"
      ]
    },
    {
      "cell_type": "markdown",
      "metadata": {
        "id": "6ze8WfTEIGNB"
      },
      "source": [
        "### 9. Create a tensor \"y\" with the same number of elements as x, that can be matrix-multiplied with x\n",
        "Use PyTorch directly (not NumPy) to create a tensor of random integers between 0 (inclusive) and 5 (exclusive).<br>\n",
        "Think about what shape it should have to permit matrix multiplication."
      ]
    },
    {
      "cell_type": "code",
      "execution_count": null,
      "metadata": {
        "colab": {
          "base_uri": "https://localhost:8080/"
        },
        "id": "JtB-Eoy-IGNB",
        "outputId": "a745039a-2a49-40c6-c99c-064d194afdce"
      },
      "outputs": [
        {
          "output_type": "stream",
          "name": "stdout",
          "text": [
            "tensor([[2, 2, 1],\n",
            "        [4, 1, 0]])\n"
          ]
        }
      ],
      "source": [
        "# CODE HERE\n",
        "y=torch.randint(0,5,(2,3))\n",
        "print(y)"
      ]
    },
    {
      "cell_type": "code",
      "execution_count": null,
      "metadata": {
        "id": "LmwbH5mqIGNB",
        "outputId": "bc31c9de-8db6-42e9-9eb5-6dafed03ba0e"
      },
      "outputs": [
        {
          "name": "stdout",
          "output_type": "stream",
          "text": [
            "tensor([[2, 2, 1],\n",
            "        [4, 1, 0]])\n"
          ]
        }
      ],
      "source": [
        "# DON'T WRITE HERE"
      ]
    },
    {
      "cell_type": "markdown",
      "metadata": {
        "id": "tK_BQdxKIGNB"
      },
      "source": [
        "### 10. Find the matrix product of x and y"
      ]
    },
    {
      "cell_type": "code",
      "execution_count": null,
      "metadata": {
        "colab": {
          "base_uri": "https://localhost:8080/"
        },
        "id": "-epjKOcoIGNB",
        "outputId": "23e15a4c-fb7f-4889-82a5-8d0d937bac71"
      },
      "outputs": [
        {
          "output_type": "stream",
          "name": "stdout",
          "text": [
            "tensor([[22, 10,  3],\n",
            "        [20,  8,  2],\n",
            "        [12,  9,  4]])\n"
          ]
        }
      ],
      "source": [
        "# CODE HERE\n",
        "print(torch.mm(x,y))"
      ]
    },
    {
      "cell_type": "code",
      "execution_count": null,
      "metadata": {
        "id": "igzpY4CXIGNB",
        "outputId": "403d2970-771d-4f96-9dca-ca53ccca907b"
      },
      "outputs": [
        {
          "name": "stdout",
          "output_type": "stream",
          "text": [
            "tensor([[22, 10,  3],\n",
            "        [20,  8,  2],\n",
            "        [12,  9,  4]])\n"
          ]
        }
      ],
      "source": [
        "# DON'T WRITE HERE"
      ]
    },
    {
      "cell_type": "markdown",
      "metadata": {
        "id": "2htFYOy6IGNB"
      },
      "source": [
        "## Great job!"
      ]
    }
  ],
  "metadata": {
    "kernelspec": {
      "display_name": "Python 3 (ipykernel)",
      "language": "python",
      "name": "python3"
    },
    "language_info": {
      "codemirror_mode": {
        "name": "ipython",
        "version": 3
      },
      "file_extension": ".py",
      "mimetype": "text/x-python",
      "name": "python",
      "nbconvert_exporter": "python",
      "pygments_lexer": "ipython3",
      "version": "3.12.3"
    },
    "colab": {
      "provenance": []
    }
  },
  "nbformat": 4,
  "nbformat_minor": 0
}